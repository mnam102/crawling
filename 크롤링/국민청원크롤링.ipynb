{
 "cells": [
  {
   "cell_type": "markdown",
   "metadata": {},
   "source": [
    "# 국민 청원 크롤링\n",
    "* URL : https://www1.president.go.kr/petitions"
   ]
  },
  {
   "cell_type": "code",
   "execution_count": 2,
   "metadata": {},
   "outputs": [],
   "source": [
    "# 필요한 도구를 불러온다.\n",
    "# 파이썬에서 사용할 수 있는 엑셀과 유사한 데이터분석 도구\n",
    "import pandas as pd\n",
    "import numpy as np\n",
    "# 매우 작은 브라우저로 웹사이트의 내용과 정보를 불러올 수 있습니다.\n",
    "import requests\n",
    "# request로 가져온 웹사이트의 html 태그를 파싱하는데 사용합니다.\n",
    "from bs4 import BeautifulSoup as bs\n",
    "# 랜덤숫자를 생성한다.\n",
    "import random\n",
    "import time\n",
    "# 대량 데이터 처리시 진행 상황을 표시합니다.\n",
    "from tqdm import tqdm, trange\n",
    "# 정규표현식\n",
    "import re"
   ]
  },
  {
   "cell_type": "code",
   "execution_count": 3,
   "metadata": {},
   "outputs": [],
   "source": [
    "from urllib.parse import quote_plus\n",
    "from bs4 import BeautifulSoup\n",
    "from selenium import webdriver"
   ]
  },
  {
   "cell_type": "markdown",
   "metadata": {},
   "source": [
    "## 국민청원 top 5 크롤링"
   ]
  },
  {
   "cell_type": "code",
   "execution_count": 5,
   "metadata": {},
   "outputs": [],
   "source": [
    "# suggestion_list=[]\n",
    "# base_url ='https://www1.president.go.kr/petitions/?c=0&only=1&page=2&order=0'\n",
    "# response = requests.get( base_url )\n",
    "# html = bs(response.text, 'html.parser')\n",
    "# # 소스코드를 제대로 가져왔는지 확인해 봅니다.\n",
    "# tags=html.select('#cont_view > div.cs_area > div > div > div.ct_petitions > div.ct_petitions_area.ct_txt_left > div.ct_list > div > div > div.bl_body > ul ')[0].find_all('a')\n",
    "# # print(tags)\n",
    "# for tag in tags:\n",
    "#     suggestion_list.append(tag['href'])"
   ]
  },
  {
   "cell_type": "code",
   "execution_count": 6,
   "metadata": {},
   "outputs": [],
   "source": [
    "suggestion_list=[]\n",
    "base_url ='https://www1.president.go.kr/petitions/?c=0&only=1&page=2&order=0'\n",
    "\n",
    "driver =webdriver.Chrome()\n",
    "driver.get(base_url)\n",
    "html=driver.page_source\n",
    "soup=BeautifulSoup(html)\n",
    "\n",
    "# 소스코드를 제대로 가져왔는지 확인해 봅니다.\n",
    "tags=soup.select('#cont_view > div.cs_area > div > div > div.ct_petitions > div.ct_petitions_area.ct_txt_left > div.ct_list > div > div > div.bl_body > ul ')[0].find_all('a')\n",
    "# print(tags)\n",
    "for tag in tags:\n",
    "    suggestion_list.append(tag['href'])\n",
    "\n",
    "driver.close()"
   ]
  },
  {
   "cell_type": "code",
   "execution_count": 4,
   "metadata": {},
   "outputs": [
    {
     "name": "stdout",
     "output_type": "stream",
     "text": [
      "['/petitions/584936', '/petitions/585290', '/petitions/585683', '/petitions/585007', '/petitions/584755']\n"
     ]
    }
   ],
   "source": [
    "print(suggestion_list)"
   ]
  },
  {
   "cell_type": "code",
   "execution_count": 5,
   "metadata": {},
   "outputs": [],
   "source": [
    "def contents_func(url):\n",
    "    article = []\n",
    "    baseurl=f'https://www1.president.go.kr{url}'\n",
    "    driver =webdriver.Chrome()\n",
    "    driver.get(baseurl)\n",
    "    \n",
    "    html=driver.page_source\n",
    "    soup=BeautifulSoup(html)\n",
    "\n",
    "    title=soup.select('#cont_view > div.cs_area > div.new_contents > div > div.petitionsView_left > div > h3')[0].get_text(strip=True)\n",
    "\n",
    "    desc = soup.select(\n",
    "                '#cont_view > div.cs_area > div.new_contents > div > div.petitionsView_left > div > div.petitionsView_info > ul')\n",
    "    desc1=desc[0].get_text(strip=False)\n",
    "\n",
    "    category=desc1.split('\\n')[1][4:]\n",
    "    start=desc1.split('\\n')[2][4:]\n",
    "    end=desc1.split('\\n')[3][4:]\n",
    "    author=desc1.split('\\n')[4][3:]\n",
    "\n",
    "    content=soup.select('#cont_view > div.cs_area > div.new_contents > div > div.petitionsView_left > div > div.petitionsView_write > div.View_write')[0].get_text(strip=True)\n",
    "    vote = soup.select('#petitionsReply_area > div.Reply_area_head > h3 > span')[0].get_text(strip=True)\n",
    "    \n",
    "    article.append(title)\n",
    "    article.append(category)\n",
    "    article.append(content)\n",
    "    article.append(start)\n",
    "    article.append(end)\n",
    "    article.append(vote)\n",
    "    article.append(author)\n",
    "\n",
    "    driver.close()\n",
    "    return article\n"
   ]
  },
  {
   "cell_type": "code",
   "execution_count": 6,
   "metadata": {},
   "outputs": [
    {
     "name": "stderr",
     "output_type": "stream",
     "text": [
      "5it [01:16, 15.27s/it]\n"
     ]
    }
   ],
   "source": [
    "data = []\n",
    "# tqdm 을 사용해서 어느정도 가져왔는지 확인하기\n",
    "for i, suggestion in tqdm(enumerate(suggestion_list)):\n",
    "    # suggestion_list 에 있는 각 게시물에 접근해서 카테고리, 시작일, 마감일, 제안인, 제목, 내용 등을 가져옵니다.\n",
    "    s = contents_func(suggestion)\n",
    "    data.append(s)"
   ]
  },
  {
   "cell_type": "code",
   "execution_count": 7,
   "metadata": {},
   "outputs": [
    {
     "data": {
      "text/html": [
       "<div>\n",
       "<style scoped>\n",
       "    .dataframe tbody tr th:only-of-type {\n",
       "        vertical-align: middle;\n",
       "    }\n",
       "\n",
       "    .dataframe tbody tr th {\n",
       "        vertical-align: top;\n",
       "    }\n",
       "\n",
       "    .dataframe thead th {\n",
       "        text-align: right;\n",
       "    }\n",
       "</style>\n",
       "<table border=\"1\" class=\"dataframe\">\n",
       "  <thead>\n",
       "    <tr style=\"text-align: right;\">\n",
       "      <th></th>\n",
       "      <th>title</th>\n",
       "      <th>category</th>\n",
       "      <th>content</th>\n",
       "      <th>start</th>\n",
       "      <th>end</th>\n",
       "      <th>vote</th>\n",
       "      <th>author</th>\n",
       "    </tr>\n",
       "  </thead>\n",
       "  <tbody>\n",
       "    <tr>\n",
       "      <td>0</td>\n",
       "      <td>문재인 대통령 탄핵을 촉구합니다.</td>\n",
       "      <td>정치개혁</td>\n",
       "      <td>국민의 한 사람으로서 문재인 대통령의 탄핵을 촉구합니다.이번 우한 폐렴(신종 코로나...</td>\n",
       "      <td>2020-02-04</td>\n",
       "      <td>2020-03-05</td>\n",
       "      <td>849,845</td>\n",
       "      <td>naver - ***</td>\n",
       "    </tr>\n",
       "    <tr>\n",
       "      <td>1</td>\n",
       "      <td>신천지 예수교 증거장막성전(이하, 신천지)의 강제 해체(해산)을 청원합니다.</td>\n",
       "      <td>인권/성평등</td>\n",
       "      <td>신천지 예수교 증거장막성전(이하, 신천지)의 강제 해체(해산)을 청원합니다.“MBC...</td>\n",
       "      <td>2020-02-22</td>\n",
       "      <td>2020-03-23</td>\n",
       "      <td>837,686</td>\n",
       "      <td>facebook - ***</td>\n",
       "    </tr>\n",
       "    <tr>\n",
       "      <td>2</td>\n",
       "      <td>문재인 대통령님을 응원 합니다!</td>\n",
       "      <td>기타</td>\n",
       "      <td>코로나 바이러스19로 인해 대한민국 모든 국민이 힘든 시기에 있습니다. 하지만 국민...</td>\n",
       "      <td>2020-02-26</td>\n",
       "      <td>2020-03-27</td>\n",
       "      <td>285,718</td>\n",
       "      <td>naver - ***</td>\n",
       "    </tr>\n",
       "    <tr>\n",
       "      <td>3</td>\n",
       "      <td>저의 아들이 6년간다닌어린이집 에서 남자원장으로부터 3년간 성폭행을 당했습니다</td>\n",
       "      <td>육아/교육</td>\n",
       "      <td>저의 아들은 7살입니다.생후 25일일때부터 입소하여서 7살인2020년1월18일까지 ...</td>\n",
       "      <td>2020-02-07</td>\n",
       "      <td>2020-03-08</td>\n",
       "      <td>184,801</td>\n",
       "      <td>naver - ***</td>\n",
       "    </tr>\n",
       "    <tr>\n",
       "      <td>4</td>\n",
       "      <td>추미애 법무장관의 해임을 청원합니다</td>\n",
       "      <td>정치개혁</td>\n",
       "      <td>[ 추미애 법무장관의 해임을 청원합니다. ]우리 검찰의 역사는 정권의 수족역할을 해...</td>\n",
       "      <td>2020-02-03</td>\n",
       "      <td>2020-03-04</td>\n",
       "      <td>183,063</td>\n",
       "      <td>naver - ***</td>\n",
       "    </tr>\n",
       "  </tbody>\n",
       "</table>\n",
       "</div>"
      ],
      "text/plain": [
       "                                         title category  \\\n",
       "0                           문재인 대통령 탄핵을 촉구합니다.     정치개혁   \n",
       "1   신천지 예수교 증거장막성전(이하, 신천지)의 강제 해체(해산)을 청원합니다.   인권/성평등   \n",
       "2                            문재인 대통령님을 응원 합니다!       기타   \n",
       "3  저의 아들이 6년간다닌어린이집 에서 남자원장으로부터 3년간 성폭행을 당했습니다    육아/교육   \n",
       "4                          추미애 법무장관의 해임을 청원합니다     정치개혁   \n",
       "\n",
       "                                             content       start         end  \\\n",
       "0  국민의 한 사람으로서 문재인 대통령의 탄핵을 촉구합니다.이번 우한 폐렴(신종 코로나...  2020-02-04  2020-03-05   \n",
       "1  신천지 예수교 증거장막성전(이하, 신천지)의 강제 해체(해산)을 청원합니다.“MBC...  2020-02-22  2020-03-23   \n",
       "2  코로나 바이러스19로 인해 대한민국 모든 국민이 힘든 시기에 있습니다. 하지만 국민...  2020-02-26  2020-03-27   \n",
       "3  저의 아들은 7살입니다.생후 25일일때부터 입소하여서 7살인2020년1월18일까지 ...  2020-02-07  2020-03-08   \n",
       "4  [ 추미애 법무장관의 해임을 청원합니다. ]우리 검찰의 역사는 정권의 수족역할을 해...  2020-02-03  2020-03-04   \n",
       "\n",
       "      vote          author  \n",
       "0  849,845     naver - ***  \n",
       "1  837,686  facebook - ***  \n",
       "2  285,718     naver - ***  \n",
       "3  184,801     naver - ***  \n",
       "4  183,063     naver - ***  "
      ]
     },
     "execution_count": 7,
     "metadata": {},
     "output_type": "execute_result"
    }
   ],
   "source": [
    "column_names = [\"title\", \"category\", \"content\", \"start\", \"end\", \"vote\", \"author\"]\n",
    "column_names\n",
    "\n",
    "data_top5 = pd.DataFrame(data, columns=column_names)\n",
    "data_top5.head()"
   ]
  },
  {
   "cell_type": "code",
   "execution_count": 25,
   "metadata": {},
   "outputs": [],
   "source": [
    "data_top5['start']=pd.to_datetime(data_top5['start'])\n",
    "data_top5['end']=pd.to_datetime(data_top5['end'])"
   ]
  },
  {
   "cell_type": "code",
   "execution_count": 40,
   "metadata": {},
   "outputs": [],
   "source": [
    "data_top5['vote']=data_top5['vote'].str.replace(',','')"
   ]
  },
  {
   "cell_type": "code",
   "execution_count": 42,
   "metadata": {},
   "outputs": [],
   "source": [
    "data_top5['vote']=data_top5['vote'].astype('int')"
   ]
  },
  {
   "cell_type": "code",
   "execution_count": null,
   "metadata": {},
   "outputs": [],
   "source": []
  },
  {
   "cell_type": "markdown",
   "metadata": {},
   "source": [
    "## 전체 국민 청원 크롤링"
   ]
  },
  {
   "cell_type": "code",
   "execution_count": 154,
   "metadata": {
    "scrolled": true
   },
   "outputs": [],
   "source": [
    "suggestion_list=[]\n",
    "for i in range(1):\n",
    "    pnum=i\n",
    "    base_url=f'https://www1.president.go.kr/petitions/?c=0&only=1&page={pnum+1}&order=0'\n",
    "\n",
    "    driver =webdriver.Chrome()\n",
    "    driver.get(base_url)\n",
    "\n",
    "    html=driver.page_source\n",
    "    soup=BeautifulSoup(html)\n",
    "\n",
    "    tags=soup.select('#cont_view > div.cs_area > div > div > div.ct_petitions > div.ct_petitions_area.ct_txt_left > div.ct_list1 > div > div.b_list.category.b_list2 > div.bl_body > ul ')[0].find_all('a')\n",
    "    for tag in tags:\n",
    "            suggestion_list.append(tag['href'])"
   ]
  },
  {
   "cell_type": "code",
   "execution_count": 156,
   "metadata": {},
   "outputs": [],
   "source": [
    "def contents_func(url):\n",
    "    article = []\n",
    "    baseurl=f'https://www1.president.go.kr{url}'\n",
    "    driver =webdriver.Chrome()\n",
    "    driver.get(baseurl)\n",
    "    driver.close()\n",
    "    html=driver.page_source\n",
    "    soup=BeautifulSoup(html)\n",
    "\n",
    "    title=soup.select('#cont_view > div.cs_area > div.new_contents > div > div.petitionsView_left > div > h3')[0].get_text(strip=True)\n",
    "\n",
    "    desc = soup.select(\n",
    "                '#cont_view > div.cs_area > div.new_contents > div > div.petitionsView_left > div > div.petitionsView_info > ul')\n",
    "    desc1=desc[0].get_text(strip=False)\n",
    "\n",
    "    category=desc1.split('\\n')[1][4:]\n",
    "    start=desc1.split('\\n')[2][4:]\n",
    "    end=desc1.split('\\n')[3][4:]\n",
    "    author=desc1.split('\\n')[4][3:]\n",
    "\n",
    "    content=soup.select('#cont_view > div.cs_area > div.new_contents > div > div.petitionsView_left > div > div.petitionsView_write > div.View_write')[0].get_text(strip=True)\n",
    "    vote = soup.select('#petitionsReply_area > div.Reply_area_head > h3 > span')[0].get_text(strip=True)\n",
    "    article.append(title)\n",
    "    article.append(category)\n",
    "    article.append(content)\n",
    "    article.append(start)\n",
    "    article.append(end)\n",
    "    article.append(vote)\n",
    "    article.append(author)\n",
    "\n",
    "    return article\n"
   ]
  },
  {
   "cell_type": "code",
   "execution_count": 158,
   "metadata": {},
   "outputs": [
    {
     "name": "stderr",
     "output_type": "stream",
     "text": [
      "30it [06:02, 12.08s/it]\n"
     ]
    }
   ],
   "source": [
    "data = []\n",
    "# tqdm 을 사용해서 어느정도 가져왔는지 확인하기\n",
    "for i, suggestion in tqdm(enumerate(suggestion_list)):\n",
    "    # suggestion_list 에 있는 각 게시물에 접근해서 카테고리, 시작일, 마감일, 제안인, 제목, 내용 등을 가져옵니다.\n",
    "    s = contents_func(suggestion)\n",
    "    data.append(s)"
   ]
  },
  {
   "cell_type": "code",
   "execution_count": 159,
   "metadata": {},
   "outputs": [
    {
     "data": {
      "text/html": [
       "<div>\n",
       "<style scoped>\n",
       "    .dataframe tbody tr th:only-of-type {\n",
       "        vertical-align: middle;\n",
       "    }\n",
       "\n",
       "    .dataframe tbody tr th {\n",
       "        vertical-align: top;\n",
       "    }\n",
       "\n",
       "    .dataframe thead th {\n",
       "        text-align: right;\n",
       "    }\n",
       "</style>\n",
       "<table border=\"1\" class=\"dataframe\">\n",
       "  <thead>\n",
       "    <tr style=\"text-align: right;\">\n",
       "      <th></th>\n",
       "      <th>title</th>\n",
       "      <th>category</th>\n",
       "      <th>content</th>\n",
       "      <th>start</th>\n",
       "      <th>end</th>\n",
       "      <th>vote</th>\n",
       "      <th>author</th>\n",
       "    </tr>\n",
       "  </thead>\n",
       "  <tbody>\n",
       "    <tr>\n",
       "      <td>0</td>\n",
       "      <td>판매용이 아닌 기업 자체 소비용 보건용 마스크 수입요건확인 면제요청 (긴급)</td>\n",
       "      <td>보건복지</td>\n",
       "      <td>기업자체 사용용도 보건용 마스크 수입요건확인 면제(긴급)청와대국민청원을 긴급하게 올...</td>\n",
       "      <td>2020-02-26</td>\n",
       "      <td>2020-03-27</td>\n",
       "      <td>195</td>\n",
       "      <td>kakao - ***</td>\n",
       "    </tr>\n",
       "    <tr>\n",
       "      <td>1</td>\n",
       "      <td>(주)***의 부당한 서비스 이용 제한 및 강제적인 개인 휴대전화번호 변경 요구</td>\n",
       "      <td>인권/성평등</td>\n",
       "      <td>너무나도 부당한 (주)*** 측의 처사를 참을 수가 없어서 국민 청원 글을 올립니다...</td>\n",
       "      <td>2020-02-26</td>\n",
       "      <td>2020-03-27</td>\n",
       "      <td>110</td>\n",
       "      <td>naver - ***</td>\n",
       "    </tr>\n",
       "    <tr>\n",
       "      <td>2</td>\n",
       "      <td>건축사  시험 연기 를  청원  합니다</td>\n",
       "      <td>교통/건축/국토</td>\n",
       "      <td>건축사 시험일이  3월  21일입니다  전국 각지 에서 모여 서  9시간동안 한교실...</td>\n",
       "      <td>2020-02-26</td>\n",
       "      <td>2020-03-27</td>\n",
       "      <td>302</td>\n",
       "      <td>naver - ***</td>\n",
       "    </tr>\n",
       "    <tr>\n",
       "      <td>3</td>\n",
       "      <td>2020년 아이스하키 U18 남자 대표선수 훈련 일정을 중단하고,해외에서 열리는 대...</td>\n",
       "      <td>문화/예술/체육/언론</td>\n",
       "      <td>현재 21일 0시를 기준으로 중국,일본,대한민국 뿐만 아니라 전세계가 코로나19 감...</td>\n",
       "      <td>2020-02-26</td>\n",
       "      <td>2020-03-27</td>\n",
       "      <td>129</td>\n",
       "      <td>naver - ***</td>\n",
       "    </tr>\n",
       "    <tr>\n",
       "      <td>4</td>\n",
       "      <td>청년내일채움공제 사회복지사도 신청하게 해주세요 ㅠㅠ</td>\n",
       "      <td>보건복지</td>\n",
       "      <td>사회복지관련 센터에서 일을 하면 취직하고 월급이.. 세금 제외시키고 200도 안되요...</td>\n",
       "      <td>2020-02-26</td>\n",
       "      <td>2020-03-27</td>\n",
       "      <td>178</td>\n",
       "      <td>naver - ***</td>\n",
       "    </tr>\n",
       "  </tbody>\n",
       "</table>\n",
       "</div>"
      ],
      "text/plain": [
       "                                               title     category  \\\n",
       "0         판매용이 아닌 기업 자체 소비용 보건용 마스크 수입요건확인 면제요청 (긴급)         보건복지   \n",
       "1       (주)***의 부당한 서비스 이용 제한 및 강제적인 개인 휴대전화번호 변경 요구       인권/성평등   \n",
       "2                              건축사  시험 연기 를  청원  합니다     교통/건축/국토   \n",
       "3  2020년 아이스하키 U18 남자 대표선수 훈련 일정을 중단하고,해외에서 열리는 대...  문화/예술/체육/언론   \n",
       "4                       청년내일채움공제 사회복지사도 신청하게 해주세요 ㅠㅠ         보건복지   \n",
       "\n",
       "                                             content       start         end  \\\n",
       "0  기업자체 사용용도 보건용 마스크 수입요건확인 면제(긴급)청와대국민청원을 긴급하게 올...  2020-02-26  2020-03-27   \n",
       "1  너무나도 부당한 (주)*** 측의 처사를 참을 수가 없어서 국민 청원 글을 올립니다...  2020-02-26  2020-03-27   \n",
       "2  건축사 시험일이  3월  21일입니다  전국 각지 에서 모여 서  9시간동안 한교실...  2020-02-26  2020-03-27   \n",
       "3  현재 21일 0시를 기준으로 중국,일본,대한민국 뿐만 아니라 전세계가 코로나19 감...  2020-02-26  2020-03-27   \n",
       "4  사회복지관련 센터에서 일을 하면 취직하고 월급이.. 세금 제외시키고 200도 안되요...  2020-02-26  2020-03-27   \n",
       "\n",
       "  vote       author  \n",
       "0  195  kakao - ***  \n",
       "1  110  naver - ***  \n",
       "2  302  naver - ***  \n",
       "3  129  naver - ***  \n",
       "4  178  naver - ***  "
      ]
     },
     "execution_count": 159,
     "metadata": {},
     "output_type": "execute_result"
    }
   ],
   "source": [
    "column_names = [\"title\", \"category\", \"content\", \"start\", \"end\", \"vote\", \"author\"]\n",
    "column_names\n",
    "\n",
    "data = pd.DataFrame(data, columns=column_names)\n",
    "data.head()"
   ]
  },
  {
   "cell_type": "code",
   "execution_count": null,
   "metadata": {},
   "outputs": [],
   "source": []
  },
  {
   "cell_type": "code",
   "execution_count": null,
   "metadata": {},
   "outputs": [],
   "source": []
  },
  {
   "cell_type": "code",
   "execution_count": null,
   "metadata": {},
   "outputs": [],
   "source": [
    "#### ==============="
   ]
  },
  {
   "cell_type": "code",
   "execution_count": null,
   "metadata": {},
   "outputs": [],
   "source": []
  },
  {
   "cell_type": "code",
   "execution_count": null,
   "metadata": {},
   "outputs": [],
   "source": []
  },
  {
   "cell_type": "code",
   "execution_count": null,
   "metadata": {},
   "outputs": [],
   "source": []
  },
  {
   "cell_type": "code",
   "execution_count": null,
   "metadata": {},
   "outputs": [],
   "source": []
  }
 ],
 "metadata": {
  "kernelspec": {
   "display_name": "Python 3",
   "language": "python",
   "name": "python3"
  },
  "language_info": {
   "codemirror_mode": {
    "name": "ipython",
    "version": 3
   },
   "file_extension": ".py",
   "mimetype": "text/x-python",
   "name": "python",
   "nbconvert_exporter": "python",
   "pygments_lexer": "ipython3",
   "version": "3.7.4"
  }
 },
 "nbformat": 4,
 "nbformat_minor": 2
}
